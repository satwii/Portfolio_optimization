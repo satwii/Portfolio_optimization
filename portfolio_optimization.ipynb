{
  "nbformat": 4,
  "nbformat_minor": 0,
  "metadata": {
    "colab": {
      "provenance": []
    },
    "kernelspec": {
      "name": "python3",
      "display_name": "Python 3"
    },
    "language_info": {
      "name": "python"
    }
  },
  "cells": [
    {
      "cell_type": "code",
      "execution_count": 3,
      "metadata": {
        "colab": {
          "base_uri": "https://localhost:8080/"
        },
        "id": "ymEAqdouwvNT",
        "outputId": "425fbac8-416e-405d-9094-ea8804bef620"
      },
      "outputs": [
        {
          "output_type": "stream",
          "name": "stdout",
          "text": [
            "Requirement already satisfied: yfinance in /usr/local/lib/python3.10/dist-packages (0.2.50)\n",
            "Requirement already satisfied: pandas>=1.3.0 in /usr/local/lib/python3.10/dist-packages (from yfinance) (2.2.2)\n",
            "Requirement already satisfied: numpy>=1.16.5 in /usr/local/lib/python3.10/dist-packages (from yfinance) (1.26.4)\n",
            "Requirement already satisfied: requests>=2.31 in /usr/local/lib/python3.10/dist-packages (from yfinance) (2.32.3)\n",
            "Requirement already satisfied: multitasking>=0.0.7 in /usr/local/lib/python3.10/dist-packages (from yfinance) (0.0.11)\n",
            "Requirement already satisfied: lxml>=4.9.1 in /usr/local/lib/python3.10/dist-packages (from yfinance) (5.3.0)\n",
            "Requirement already satisfied: platformdirs>=2.0.0 in /usr/local/lib/python3.10/dist-packages (from yfinance) (4.3.6)\n",
            "Requirement already satisfied: pytz>=2022.5 in /usr/local/lib/python3.10/dist-packages (from yfinance) (2024.2)\n",
            "Requirement already satisfied: frozendict>=2.3.4 in /usr/local/lib/python3.10/dist-packages (from yfinance) (2.4.6)\n",
            "Requirement already satisfied: peewee>=3.16.2 in /usr/local/lib/python3.10/dist-packages (from yfinance) (3.17.8)\n",
            "Requirement already satisfied: beautifulsoup4>=4.11.1 in /usr/local/lib/python3.10/dist-packages (from yfinance) (4.12.3)\n",
            "Requirement already satisfied: html5lib>=1.1 in /usr/local/lib/python3.10/dist-packages (from yfinance) (1.1)\n",
            "Requirement already satisfied: soupsieve>1.2 in /usr/local/lib/python3.10/dist-packages (from beautifulsoup4>=4.11.1->yfinance) (2.6)\n",
            "Requirement already satisfied: six>=1.9 in /usr/local/lib/python3.10/dist-packages (from html5lib>=1.1->yfinance) (1.17.0)\n",
            "Requirement already satisfied: webencodings in /usr/local/lib/python3.10/dist-packages (from html5lib>=1.1->yfinance) (0.5.1)\n",
            "Requirement already satisfied: python-dateutil>=2.8.2 in /usr/local/lib/python3.10/dist-packages (from pandas>=1.3.0->yfinance) (2.8.2)\n",
            "Requirement already satisfied: tzdata>=2022.7 in /usr/local/lib/python3.10/dist-packages (from pandas>=1.3.0->yfinance) (2024.2)\n",
            "Requirement already satisfied: charset-normalizer<4,>=2 in /usr/local/lib/python3.10/dist-packages (from requests>=2.31->yfinance) (3.4.0)\n",
            "Requirement already satisfied: idna<4,>=2.5 in /usr/local/lib/python3.10/dist-packages (from requests>=2.31->yfinance) (3.10)\n",
            "Requirement already satisfied: urllib3<3,>=1.21.1 in /usr/local/lib/python3.10/dist-packages (from requests>=2.31->yfinance) (2.2.3)\n",
            "Requirement already satisfied: certifi>=2017.4.17 in /usr/local/lib/python3.10/dist-packages (from requests>=2.31->yfinance) (2024.8.30)\n"
          ]
        }
      ],
      "source": [
        "get_ipython().system('pip install yfinance')\n",
        "import yfinance as yf\n",
        "import pandas as pd\n",
        "from datetime import datetime\n",
        "import numpy as np"
      ]
    },
    {
      "cell_type": "code",
      "source": [
        "\n",
        "# Function to fetch stock prices and calculate correlation matrix\n",
        "def fetch_stock_prices(start_date, end_date, symbols):\n",
        "    prices = pd.DataFrame()\n",
        "\n",
        "    # Fetch stock prices for each symbol and append to the DataFrame\n",
        "    for symbol in symbols:\n",
        "        data = yf.download(symbol, start=start_date, end=end_date)\n",
        "        prices[symbol] = data['Adj Close']\n",
        "\n",
        "    return prices"
      ],
      "metadata": {
        "id": "_-QyedSgwya8"
      },
      "execution_count": 4,
      "outputs": []
    },
    {
      "cell_type": "code",
      "source": [
        "\n",
        "# Function to calculate correlation matrix between each pair of stocks\n",
        "def calculate_correlation(prices):\n",
        "    correlation_matrix = prices.corr()\n",
        "    return correlation_matrix\n"
      ],
      "metadata": {
        "id": "KVNG_BqQw5f5"
      },
      "execution_count": 5,
      "outputs": []
    },
    {
      "cell_type": "code",
      "source": [
        "# Function to calculate covariance matrix between each pair of stocks\n",
        "def calculate_covariance_matrix(prices):\n",
        "    returns = prices.pct_change().apply(lambda x: np.log(1 + x))\n",
        "    cov_matrix = returns.cov()\n",
        "    return cov_matrix\n"
      ],
      "metadata": {
        "id": "YOEuiPIJw-Qs"
      },
      "execution_count": 6,
      "outputs": []
    },
    {
      "cell_type": "code",
      "source": [
        "# Function to find a pair of stocks with correlation closest to zero\n",
        "def find_closest_to_zero_correlation(prices):\n",
        "    closest_pair = None\n",
        "    closest_correlation = float('inf')  # Start with a large value\n",
        "\n",
        "    for i in range(len(prices.columns)):\n",
        "        for j in range(i + 1, len(prices.columns)):\n",
        "            correlation = prices[prices.columns[i]].corr(prices[prices.columns[j]])\n",
        "            if abs(correlation) < abs(closest_correlation):\n",
        "                closest_correlation = correlation\n",
        "                closest_pair = (prices.columns[i], prices.columns[j])\n",
        "\n",
        "    return closest_pair, closest_correlation"
      ],
      "metadata": {
        "id": "0-syaoR3xCCm"
      },
      "execution_count": 7,
      "outputs": []
    },
    {
      "cell_type": "code",
      "source": [
        "# Define symbols and date ranges\n",
        "symbols = ['AAPL', 'KO', 'NKE', 'TSLA']\n",
        "start_date_2015 = datetime(2015, 1, 1)\n",
        "end_date_2015 = datetime(2016, 1, 1)\n",
        "end_date_2016 = datetime(2017, 1, 1)\n",
        "end_date_2017 = datetime(2018, 1, 1)\n",
        "end_date_2018 = datetime(2019, 1, 1)\n",
        "end_date_2019 = datetime(2020, 1, 1)\n",
        "end_date_2020 = datetime(2021, 1, 1)"
      ],
      "metadata": {
        "id": "Ysh6P_-exEib"
      },
      "execution_count": 8,
      "outputs": []
    },
    {
      "cell_type": "code",
      "source": [
        "# Define symbols and date ranges\n",
        "symbols = ['AAPL', 'KO', 'NKE', 'TSLA']\n",
        "start_date_2015 = datetime(2015, 1, 1)\n",
        "end_date_2015 = datetime(2016, 1, 1)\n",
        "end_date_2016 = datetime(2017, 1, 1)\n",
        "end_date_2017 = datetime(2018, 1, 1)\n",
        "end_date_2018 = datetime(2019, 1, 1)\n",
        "end_date_2019 = datetime(2020, 1, 1)\n",
        "end_date_2020 = datetime(2021, 1, 1)"
      ],
      "metadata": {
        "id": "EBhb_CAExHVz"
      },
      "execution_count": 9,
      "outputs": []
    },
    {
      "cell_type": "code",
      "source": [
        "\n",
        "# Fetch stock prices for each year\n",
        "prices_2015 = fetch_stock_prices(start_date_2015, end_date_2015, symbols)\n",
        "prices_2016 = fetch_stock_prices(end_date_2015, end_date_2016, symbols)\n",
        "prices_2017 = fetch_stock_prices(end_date_2016, end_date_2017, symbols)\n",
        "prices_2018 = fetch_stock_prices(end_date_2017, end_date_2018, symbols)\n",
        "prices_2019 = fetch_stock_prices(end_date_2018, end_date_2019, symbols)\n",
        "prices_2020 = fetch_stock_prices(end_date_2019, end_date_2020, symbols)"
      ],
      "metadata": {
        "colab": {
          "base_uri": "https://localhost:8080/"
        },
        "id": "aB9CtArFy3qQ",
        "outputId": "0fe4bcaa-3033-4450-e5c2-cc8ac2ca504c"
      },
      "execution_count": 11,
      "outputs": [
        {
          "output_type": "stream",
          "name": "stderr",
          "text": [
            "[*********************100%***********************]  1 of 1 completed\n",
            "[*********************100%***********************]  1 of 1 completed\n",
            "[*********************100%***********************]  1 of 1 completed\n",
            "[*********************100%***********************]  1 of 1 completed\n",
            "[*********************100%***********************]  1 of 1 completed\n",
            "[*********************100%***********************]  1 of 1 completed\n",
            "[*********************100%***********************]  1 of 1 completed\n",
            "[*********************100%***********************]  1 of 1 completed\n",
            "[*********************100%***********************]  1 of 1 completed\n",
            "[*********************100%***********************]  1 of 1 completed\n",
            "[*********************100%***********************]  1 of 1 completed\n",
            "[*********************100%***********************]  1 of 1 completed\n",
            "[*********************100%***********************]  1 of 1 completed\n",
            "[*********************100%***********************]  1 of 1 completed\n",
            "[*********************100%***********************]  1 of 1 completed\n",
            "[*********************100%***********************]  1 of 1 completed\n",
            "[*********************100%***********************]  1 of 1 completed\n",
            "[*********************100%***********************]  1 of 1 completed\n",
            "[*********************100%***********************]  1 of 1 completed\n",
            "[*********************100%***********************]  1 of 1 completed\n",
            "[*********************100%***********************]  1 of 1 completed\n",
            "[*********************100%***********************]  1 of 1 completed\n",
            "[*********************100%***********************]  1 of 1 completed\n",
            "[*********************100%***********************]  1 of 1 completed\n"
          ]
        }
      ]
    },
    {
      "cell_type": "code",
      "source": [
        "# Calculate correlation matrix for each year\n",
        "correlation_2015 = calculate_correlation(prices_2015)\n",
        "correlation_2016 = calculate_correlation(prices_2016)\n",
        "correlation_2017 = calculate_correlation(prices_2017)\n",
        "correlation_2018 = calculate_correlation(prices_2018)\n",
        "correlation_2019 = calculate_correlation(prices_2019)\n",
        "correlation_2020 = calculate_correlation(prices_2020)\n"
      ],
      "metadata": {
        "id": "6MaM1lX5xKVw"
      },
      "execution_count": 12,
      "outputs": []
    },
    {
      "cell_type": "code",
      "source": [
        "# Calculate covariance matrix for each year\n",
        "cov_matrix_2015 = calculate_covariance_matrix(prices_2015)\n",
        "cov_matrix_2016 = calculate_covariance_matrix(prices_2016)\n",
        "cov_matrix_2017 = calculate_covariance_matrix(prices_2017)\n",
        "cov_matrix_2018 = calculate_covariance_matrix(prices_2018)\n",
        "cov_matrix_2019 = calculate_covariance_matrix(prices_2019)\n",
        "cov_matrix_2020 = calculate_covariance_matrix(prices_2020)\n",
        "\n"
      ],
      "metadata": {
        "id": "m2uYmzD6xP69"
      },
      "execution_count": 15,
      "outputs": []
    },
    {
      "cell_type": "code",
      "source": [
        "\n",
        "# Find closest pair of stocks with correlation closest to zero for each year\n",
        "closest_pair_2015, closest_correlation_2015 = find_closest_to_zero_correlation(prices_2015)\n",
        "closest_pair_2016, closest_correlation_2016 = find_closest_to_zero_correlation(prices_2016)\n",
        "closest_pair_2017, closest_correlation_2017 = find_closest_to_zero_correlation(prices_2017)\n",
        "closest_pair_2018, closest_correlation_2018 = find_closest_to_zero_correlation(prices_2018)\n",
        "closest_pair_2019, closest_correlation_2019 = find_closest_to_zero_correlation(prices_2019)\n",
        "closest_pair_2020, closest_correlation_2020 = find_closest_to_zero_correlation(prices_2020)\n",
        "\n"
      ],
      "metadata": {
        "id": "eN2w5piCzHIt"
      },
      "execution_count": 21,
      "outputs": []
    },
    {
      "cell_type": "code",
      "source": [
        "# Print results\n",
        "print(\"Correlation Matrix for 2015:\")\n",
        "print(correlation_2015)\n",
        "\n",
        "print(\"\\nCovariance Matrix for 2015:\")\n",
        "print(cov_matrix_2015)\n",
        "\n",
        "print(\"\\nClosest pair and correlation for 2015:\")\n",
        "print(closest_pair_2015, closest_correlation_2015)\n",
        "print(\"Correlation Matrix for 2016:\")\n",
        "print(correlation_2016)\n",
        "\n",
        "print(\"\\nCovariance Matrix for 2016:\")\n",
        "print(cov_matrix_2016)\n",
        "\n",
        "print(\"\\nClosest pair and correlation for 2017:\")\n",
        "print(closest_pair_2017, closest_correlation_2017)\n",
        "print(\"Correlation Matrix for 2017:\")\n",
        "print(correlation_2017)\n",
        "\n",
        "print(\"\\nCovariance Matrix for 2017:\")\n",
        "print(cov_matrix_2018)\n",
        "\n",
        "print(\"\\nClosest pair and correlation for 2018:\")\n",
        "print(closest_pair_2018, closest_correlation_2018)\n",
        "print(\"Correlation Matrix for 2018:\")\n",
        "print(correlation_2018)\n",
        "\n",
        "print(\"\\nCovariance Matrix for 2018:\")\n",
        "print(cov_matrix_2018)\n",
        "\n",
        "print(\"\\nClosest pair and correlation for 2019:\")\n",
        "print(closest_pair_2015, closest_correlation_2019)\n",
        "print(\"Correlation Matrix for 2019:\")\n",
        "print(correlation_2019)\n",
        "\n",
        "print(\"\\nCovariance Matrix for 2019:\")\n",
        "print(cov_matrix_2019)\n",
        "\n",
        "print(\"\\nClosest pair and correlation for 2019:\")\n",
        "print(closest_pair_2019, closest_correlation_2019)\n",
        "print(\"Correlation Matrix for 2020:\")\n",
        "print(correlation_2020)\n",
        "\n",
        "print(\"\\nCovariance Matrix for 2020:\")\n",
        "print(cov_matrix_2020)\n",
        "\n",
        "print(\"\\nClosest pair and correlation for 2020:\")\n",
        "print(closest_pair_2015, closest_correlation_2020)"
      ],
      "metadata": {
        "colab": {
          "base_uri": "https://localhost:8080/"
        },
        "id": "-bJ1fEEixUeX",
        "outputId": "083057fb-82a8-4e7b-87d1-3766ddb5589b"
      },
      "execution_count": 22,
      "outputs": [
        {
          "output_type": "stream",
          "name": "stdout",
          "text": [
            "Correlation Matrix for 2015:\n",
            "          AAPL        KO       NKE      TSLA\n",
            "AAPL  1.000000 -0.270100 -0.371795  0.115169\n",
            "KO   -0.270100  1.000000  0.520662 -0.271646\n",
            "NKE  -0.371795  0.520662  1.000000  0.283216\n",
            "TSLA  0.115169 -0.271646  0.283216  1.000000\n",
            "\n",
            "Covariance Matrix for 2015:\n",
            "          AAPL        KO       NKE      TSLA\n",
            "AAPL  0.000285  0.000066  0.000107  0.000123\n",
            "KO    0.000066  0.000082  0.000066  0.000064\n",
            "NKE   0.000107  0.000066  0.000200  0.000113\n",
            "TSLA  0.000123  0.000064  0.000113  0.000598\n",
            "\n",
            "Closest pair and correlation for 2015:\n",
            "('AAPL', 'TSLA') 0.11516875831175351\n",
            "Correlation Matrix for 2016:\n",
            "          AAPL        KO       NKE      TSLA\n",
            "AAPL  1.000000 -0.306310 -0.514777  0.043634\n",
            "KO   -0.306310  1.000000  0.402449  0.663683\n",
            "NKE  -0.514777  0.402449  1.000000  0.327899\n",
            "TSLA  0.043634  0.663683  0.327899  1.000000\n",
            "\n",
            "Covariance Matrix for 2016:\n",
            "          AAPL        KO       NKE      TSLA\n",
            "AAPL  0.000218  0.000032  0.000055  0.000092\n",
            "KO    0.000032  0.000080  0.000035  0.000035\n",
            "NKE   0.000055  0.000035  0.000200  0.000093\n",
            "TSLA  0.000092  0.000035  0.000093  0.000588\n",
            "\n",
            "Closest pair and correlation for 2017:\n",
            "('NKE', 'TSLA') 0.006386619194555002\n",
            "Correlation Matrix for 2017:\n",
            "          AAPL        KO       NKE      TSLA\n",
            "AAPL  1.000000  0.880740  0.446050  0.632192\n",
            "KO    0.880740  1.000000  0.259318  0.809119\n",
            "NKE   0.446050  0.259318  1.000000  0.006387\n",
            "TSLA  0.632192  0.809119  0.006387  1.000000\n",
            "\n",
            "Covariance Matrix for 2017:\n",
            "          AAPL        KO       NKE      TSLA\n",
            "AAPL  0.000329  0.000040  0.000139  0.000210\n",
            "KO    0.000040  0.000090  0.000068  0.000071\n",
            "NKE   0.000139  0.000068  0.000337  0.000220\n",
            "TSLA  0.000210  0.000071  0.000220  0.001331\n",
            "\n",
            "Closest pair and correlation for 2018:\n",
            "('NKE', 'TSLA') -0.08639860163304958\n",
            "Correlation Matrix for 2018:\n",
            "          AAPL        KO       NKE      TSLA\n",
            "AAPL  1.000000  0.220616  0.818822 -0.278397\n",
            "KO    0.220616  1.000000  0.414900  0.401703\n",
            "NKE   0.818822  0.414900  1.000000 -0.086399\n",
            "TSLA -0.278397  0.401703 -0.086399  1.000000\n",
            "\n",
            "Covariance Matrix for 2018:\n",
            "          AAPL        KO       NKE      TSLA\n",
            "AAPL  0.000329  0.000040  0.000139  0.000210\n",
            "KO    0.000040  0.000090  0.000068  0.000071\n",
            "NKE   0.000139  0.000068  0.000337  0.000220\n",
            "TSLA  0.000210  0.000071  0.000220  0.001331\n",
            "\n",
            "Closest pair and correlation for 2019:\n",
            "('AAPL', 'TSLA') 0.02013084627782161\n",
            "Correlation Matrix for 2019:\n",
            "          AAPL        KO       NKE      TSLA\n",
            "AAPL  1.000000  0.763056  0.886358  0.421145\n",
            "KO    0.763056  1.000000  0.604772  0.020131\n",
            "NKE   0.886358  0.604772  1.000000  0.456943\n",
            "TSLA  0.421145  0.020131  0.456943  1.000000\n",
            "\n",
            "Covariance Matrix for 2019:\n",
            "          AAPL        KO       NKE      TSLA\n",
            "AAPL  0.000276  0.000029  0.000105  0.000171\n",
            "KO    0.000029  0.000116  0.000032  0.000006\n",
            "NKE   0.000105  0.000032  0.000172  0.000082\n",
            "TSLA  0.000171  0.000006  0.000082  0.000955\n",
            "\n",
            "Closest pair and correlation for 2019:\n",
            "('KO', 'TSLA') 0.02013084627782161\n",
            "Correlation Matrix for 2020:\n",
            "          AAPL        KO       NKE      TSLA\n",
            "AAPL  1.000000  0.264422  0.895634  0.938807\n",
            "KO    0.264422  1.000000  0.488475  0.263407\n",
            "NKE   0.895634  0.488475  1.000000  0.906788\n",
            "TSLA  0.938807  0.263407  0.906788  1.000000\n",
            "\n",
            "Covariance Matrix for 2020:\n",
            "          AAPL        KO       NKE      TSLA\n",
            "AAPL  0.000866  0.000367  0.000476  0.000817\n",
            "KO    0.000367  0.000484  0.000375  0.000396\n",
            "NKE   0.000476  0.000375  0.000684  0.000535\n",
            "TSLA  0.000817  0.000396  0.000535  0.003191\n",
            "\n",
            "Closest pair and correlation for 2020:\n",
            "('AAPL', 'TSLA') 0.2634067994125993\n"
          ]
        }
      ]
    },
    {
      "cell_type": "code",
      "source": [],
      "metadata": {
        "id": "kp34P1TRxfxs"
      },
      "execution_count": 16,
      "outputs": []
    },
    {
      "cell_type": "code",
      "source": [
        "portfolio_symbols = ['AAPL', 'TSLA']\n",
        "start_date = datetime(2015, 1, 1)\n",
        "end_date = datetime(2020, 1, 1)\n",
        "portfolio_prices = fetch_stock_prices(start_date, end_date, portfolio_symbols)\n",
        "print(portfolio_prices)"
      ],
      "metadata": {
        "colab": {
          "base_uri": "https://localhost:8080/"
        },
        "id": "QtXEaA4Mxj-V",
        "outputId": "66ba7e9f-50fe-489d-c7df-68ca50fd4398"
      },
      "execution_count": 23,
      "outputs": [
        {
          "output_type": "stream",
          "name": "stderr",
          "text": [
            "[*********************100%***********************]  1 of 1 completed\n",
            "[*********************100%***********************]  1 of 1 completed"
          ]
        },
        {
          "output_type": "stream",
          "name": "stdout",
          "text": [
            "                 AAPL       TSLA\n",
            "Date                            \n",
            "2015-01-02  24.347170  14.620667\n",
            "2015-01-05  23.661272  14.006000\n",
            "2015-01-06  23.663504  14.085333\n",
            "2015-01-07  23.995316  14.063333\n",
            "2015-01-08  24.917271  14.041333\n",
            "...               ...        ...\n",
            "2019-12-24  68.898674  28.350000\n",
            "2019-12-26  70.265671  28.729334\n",
            "2019-12-27  70.239014  28.691999\n",
            "2019-12-30  70.655884  27.646667\n",
            "2019-12-31  71.172134  27.888666\n",
            "\n",
            "[1258 rows x 2 columns]\n"
          ]
        },
        {
          "output_type": "stream",
          "name": "stderr",
          "text": [
            "\n"
          ]
        }
      ]
    },
    {
      "cell_type": "code",
      "source": [
        "\n",
        "# Function to calculate standard deviation for each stock\n",
        "def calculate_std_dev(variance):\n",
        "    # Calculate standard deviation by taking the square root of variance\n",
        "    std_dev = np.sqrt(variance)\n",
        "    return std_dev\n",
        "\n",
        "# Calculate standard deviation for each stock for each year\n",
        "std_dev = calculate_std_dev(variance)\n",
        "\n",
        "\n",
        "# Print the standard deviation for each stock for each year\n",
        "print(\"Standard Deviation :\")\n",
        "print(std_dev)"
      ],
      "metadata": {
        "colab": {
          "base_uri": "https://localhost:8080/",
          "height": 211
        },
        "id": "SXLGO5YmxpCI",
        "outputId": "ea00ab26-6e8c-4883-fe58-49b2630ba4a0"
      },
      "execution_count": 24,
      "outputs": [
        {
          "output_type": "error",
          "ename": "NameError",
          "evalue": "name 'variance' is not defined",
          "traceback": [
            "\u001b[0;31m---------------------------------------------------------------------------\u001b[0m",
            "\u001b[0;31mNameError\u001b[0m                                 Traceback (most recent call last)",
            "\u001b[0;32m<ipython-input-24-be185c02555b>\u001b[0m in \u001b[0;36m<cell line: 8>\u001b[0;34m()\u001b[0m\n\u001b[1;32m      6\u001b[0m \u001b[0;34m\u001b[0m\u001b[0m\n\u001b[1;32m      7\u001b[0m \u001b[0;31m# Calculate standard deviation for each stock for each year\u001b[0m\u001b[0;34m\u001b[0m\u001b[0;34m\u001b[0m\u001b[0m\n\u001b[0;32m----> 8\u001b[0;31m \u001b[0mstd_dev\u001b[0m \u001b[0;34m=\u001b[0m \u001b[0mcalculate_std_dev\u001b[0m\u001b[0;34m(\u001b[0m\u001b[0mvariance\u001b[0m\u001b[0;34m)\u001b[0m\u001b[0;34m\u001b[0m\u001b[0;34m\u001b[0m\u001b[0m\n\u001b[0m\u001b[1;32m      9\u001b[0m \u001b[0;34m\u001b[0m\u001b[0m\n\u001b[1;32m     10\u001b[0m \u001b[0;34m\u001b[0m\u001b[0m\n",
            "\u001b[0;31mNameError\u001b[0m: name 'variance' is not defined"
          ]
        }
      ]
    },
    {
      "cell_type": "code",
      "source": [
        "# Function to calculate variance for each stock\n",
        "def calculate_variance(portfolio_prices):\n",
        "    # Calculate percentage change and apply log transformation\n",
        "    returns = portfolio_prices.pct_change().apply(lambda x: np.log(1 + x))\n",
        "\n",
        "    # Calculate mean and squared deviations\n",
        "    mean_stock = returns.mean()\n",
        "    sqd_stock = (returns - mean_stock) ** 2\n",
        "\n",
        "    # Calculate sum of squared deviations\n",
        "    ssqd_stock = sqd_stock.sum()\n",
        "\n",
        "    # Calculate variance\n",
        "    var_stock = ssqd_stock / (returns.count() - 1)\n",
        "\n",
        "    return var_stock\n",
        "\n",
        "# Calculate variance for each stock for each year\n",
        "variance = calculate_variance(portfolio_prices)\n",
        "\n",
        "\n",
        "# Print the variance for each stock for each year\n",
        "print(\"Variance :\")\n",
        "print(variance)"
      ],
      "metadata": {
        "colab": {
          "base_uri": "https://localhost:8080/"
        },
        "id": "Q8YUatWczXZ9",
        "outputId": "02ed0b11-986e-41d4-e8f4-91b159e49f28"
      },
      "execution_count": 25,
      "outputs": [
        {
          "output_type": "stream",
          "name": "stdout",
          "text": [
            "Variance :\n",
            "AAPL    0.000246\n",
            "TSLA    0.000798\n",
            "dtype: float64\n"
          ]
        }
      ]
    },
    {
      "cell_type": "code",
      "source": [
        "\n",
        "e_r = portfolio_prices.resample('Y').last().pct_change().mean()\n",
        "sd =portfolio_prices.pct_change().apply(lambda x: np.log(1 + x)).std().apply\n",
        "print(e_r)\n",
        "print(sd)\n"
      ],
      "metadata": {
        "colab": {
          "base_uri": "https://localhost:8080/"
        },
        "id": "vVQtV9XGxzXX",
        "outputId": "2a9800ee-5c86-4099-b575-67f2d10f7753"
      },
      "execution_count": 26,
      "outputs": [
        {
          "output_type": "stream",
          "name": "stdout",
          "text": [
            "AAPL    0.361281\n",
            "TSLA    0.168312\n",
            "dtype: float64\n",
            "<bound method Series.apply of AAPL    0.015672\n",
            "TSLA    0.028248\n",
            "dtype: float64>\n"
          ]
        },
        {
          "output_type": "stream",
          "name": "stderr",
          "text": [
            "<ipython-input-26-e12927d206bc>:1: FutureWarning: 'Y' is deprecated and will be removed in a future version, please use 'YE' instead.\n",
            "  e_r = portfolio_prices.resample('Y').last().pct_change().mean()\n"
          ]
        }
      ]
    },
    {
      "cell_type": "code",
      "source": [
        "assets = pd.DataFrame({'Returns': e_r, 'Volatility': sd})\n",
        "\n",
        "# Print the DataFrame\n",
        "print(assets)\n"
      ],
      "metadata": {
        "colab": {
          "base_uri": "https://localhost:8080/"
        },
        "id": "z0HpMX-3x4Ma",
        "outputId": "415cd527-4b0c-4bae-a5dd-105153d29914"
      },
      "execution_count": 27,
      "outputs": [
        {
          "output_type": "stream",
          "name": "stdout",
          "text": [
            "       Returns                                         Volatility\n",
            "AAPL  0.361281  <bound method Series.apply of AAPL    0.015672...\n",
            "TSLA  0.168312  <bound method Series.apply of AAPL    0.015672...\n"
          ]
        }
      ]
    },
    {
      "cell_type": "code",
      "source": [
        "assets = pd.DataFrame({'Returns': e_r, 'Volatility': sd})\n",
        "\n",
        "# Print the DataFrame\n",
        "print(assets)\n",
        "\n",
        "\n",
        "# In[56]:\n",
        "\n",
        "\n",
        "# Number of portfolios to simulate\n",
        "num_portfolios = 1000\n",
        "\n",
        "# Initialize empty lists for portfolio returns, volatilities, and weights\n",
        "p_ret = []\n",
        "p_vol = []\n",
        "p_weights = []\n",
        "\n",
        "# Loop to simulate portfolios\n",
        "for portfolio in range(num_portfolios):\n",
        "    weights = np.random.random(len(e_r))\n",
        "    weights /= np.sum(weights)\n",
        "    p_weights.append(weights)\n",
        "\n",
        "    # Portfolio returns\n",
        "    returns = np.dot(weights, e_r)\n",
        "    p_ret.append(returns)\n",
        "\n",
        "    # Portfolio volatility\n",
        "    cov_matrix = np.cov(e_r, rowvar=False)\n",
        "    volatility = np.sqrt(np.dot(weights.T, np.dot(cov_matrix, weights)))\n",
        "    p_vol.append(volatility)\n",
        "\n",
        "# Convert lists to NumPy arrays\n",
        "p_ret = np.array(p_ret)\n",
        "p_vol = np.array(p_vol)\n",
        "p_weights = np.array(p_weights)\n",
        "\n",
        "# Create a DataFrame with portfolio returns, volatilities, and weights\n",
        "portfolios = pd.DataFrame({'Returns': p_ret, 'Volatility': p_vol})\n",
        "\n",
        "# Add portfolio weights to the DataFrame\n",
        "for i, symbol in enumerate(e_r.index):\n",
        "    portfolios[f'{symbol}_Weight'] = p_weights[:, i]\n",
        "\n",
        "# Display the portfolios DataFrame\n",
        "print(portfolios)"
      ],
      "metadata": {
        "colab": {
          "base_uri": "https://localhost:8080/"
        },
        "id": "9t05PHcKx-pK",
        "outputId": "09d94f3f-98b3-42ef-bdf1-7a708285f1f7"
      },
      "execution_count": 28,
      "outputs": [
        {
          "output_type": "stream",
          "name": "stdout",
          "text": [
            "       Returns                                         Volatility\n",
            "AAPL  0.361281  <bound method Series.apply of AAPL    0.015672...\n",
            "TSLA  0.168312  <bound method Series.apply of AAPL    0.015672...\n",
            "      Returns  Volatility  AAPL_Weight  TSLA_Weight\n",
            "0    0.171289    0.134361     0.015424     0.984576\n",
            "1    0.319584    0.110954     0.783917     0.216083\n",
            "2    0.237851    0.100176     0.360364     0.639636\n",
            "3    0.283439    0.098269     0.596608     0.403392\n",
            "4    0.265927    0.096491     0.505857     0.494143\n",
            "..        ...         ...          ...          ...\n",
            "995  0.255338    0.096947     0.450985     0.549015\n",
            "996  0.298963    0.102355     0.677055     0.322945\n",
            "997  0.294251    0.100880     0.652637     0.347363\n",
            "998  0.196448    0.118240     0.145803     0.854197\n",
            "999  0.273898    0.096913     0.547165     0.452835\n",
            "\n",
            "[1000 rows x 4 columns]\n"
          ]
        }
      ]
    },
    {
      "cell_type": "code",
      "source": [
        "\n",
        "portfolios.plot.scatter(x='Volatility', y='Returns', grid=True)"
      ],
      "metadata": {
        "colab": {
          "base_uri": "https://localhost:8080/",
          "height": 466
        },
        "id": "F2xRuiclyHwq",
        "outputId": "e546cc7d-d0fa-4d29-e003-07a1b1f24472"
      },
      "execution_count": 29,
      "outputs": [
        {
          "output_type": "execute_result",
          "data": {
            "text/plain": [
              "<Axes: xlabel='Volatility', ylabel='Returns'>"
            ]
          },
          "metadata": {},
          "execution_count": 29
        },
        {
          "output_type": "display_data",
          "data": {
            "text/plain": [
              "<Figure size 640x480 with 1 Axes>"
            ],
            "image/png": "[encoded data removed]"
          },
          "metadata": {}
        }
      ]
    },
    {
      "cell_type": "code",
      "source": [
        "\n",
        "def get_highest_return_asset(portfolios, target_risk, tolerance=0.01):\n",
        "    selected_portfolios = portfolios[\n",
        "        (portfolios['Volatility'] >= target_risk - tolerance) &\n",
        "        (portfolios['Volatility'] <= target_risk + tolerance)\n",
        "    ]\n",
        "\n",
        "    if selected_portfolios.empty:\n",
        "        # No portfolios found within the specified risk range\n",
        "        nearby_portfolios = portfolios[\n",
        "            (portfolios['Volatility'] >= target_risk - 2*tolerance) &\n",
        "            (portfolios['Volatility'] <= target_risk + 2*tolerance)\n",
        "        ]\n",
        "\n",
        "        if nearby_portfolios.empty:\n",
        "            return None, None\n",
        "        else:\n",
        "            # Suggest a nearby risk level\n",
        "            nearby_risk = nearby_portfolios['Volatility'].mean()\n",
        "            return None, nearby_risk\n",
        "\n",
        "    highest_return_portfolio = selected_portfolios.loc[selected_portfolios['Returns'].idxmax()]\n",
        "\n",
        "    return highest_return_portfolio, None\n",
        "\n",
        "# User input for desired risk level\n",
        "user_risk = float(input(\"Enter your desired risk level (in percentage): \"))\n",
        "user_risk /= 100  # Convert percentage to decimal\n",
        "\n",
        "# Get the highest return asset for the user-specified risk\n",
        "highest_return_asset, nearby_risk = get_highest_return_asset(portfolios, user_risk)\n",
        "\n",
        "# Display the result\n",
        "if highest_return_asset is not None:\n",
        "    print(f\"\\nFor a risk level of {user_risk * 100}%, the portfolio with the highest return is:\")\n",
        "    print(highest_return_asset[['Returns', 'Volatility', 'AAPL_Weight', 'TSLA_Weight']])\n",
        "else:\n",
        "    if nearby_risk is not None:\n",
        "        print(f\"\\nNo portfolios found for the specified risk level. You may consider trying a risk level around {nearby_risk*100}%.\")\n",
        "    else:\n",
        "        print(f\"\\nNo portfolios found within the specified risk range.\")"
      ],
      "metadata": {
        "colab": {
          "base_uri": "https://localhost:8080/"
        },
        "id": "RQVDGiekyK2I",
        "outputId": "9f36af28-ddd9-4346-b67b-170bde70b6c3"
      },
      "execution_count": 32,
      "outputs": [
        {
          "output_type": "stream",
          "name": "stdout",
          "text": [
            "Enter your desired risk level (in percentage): 10\n",
            "\n",
            "For a risk level of 10.0%, the portfolio with the highest return is:\n",
            "Returns        0.317417\n",
            "Volatility     0.109900\n",
            "AAPL_Weight    0.772686\n",
            "TSLA_Weight    0.227314\n",
            "Name: 303, dtype: float64\n"
          ]
        }
      ]
    },
    {
      "cell_type": "code",
      "source": [
        "\n",
        "\n",
        "# Extract weights for each asset from the highest-return portfolio\n",
        "weights = highest_return_asset[['AAPL_Weight', 'TSLA_Weight']].values\n",
        "\n",
        "# Extract expected returns for each asset\n",
        "expected_returns = e_r.values\n",
        "\n",
        "# Calculate the expected return for the portfolio using the weights\n",
        "portfolio_expected_return = np.dot(weights, expected_returns)\n",
        "\n",
        "# Print the result\n",
        "print(f\"\\nThe expected return for the portfolio with the highest return is: {portfolio_expected_return:.4f}\")"
      ],
      "metadata": {
        "colab": {
          "base_uri": "https://localhost:8080/"
        },
        "id": "30OVLQbhyQOF",
        "outputId": "3413ecb4-f914-4309-e92b-38ce7e6a0d4c"
      },
      "execution_count": 33,
      "outputs": [
        {
          "output_type": "stream",
          "name": "stdout",
          "text": [
            "\n",
            "The expected return for the portfolio with the highest return is: 0.3174\n"
          ]
        }
      ]
    },
    {
      "cell_type": "code",
      "source": [],
      "metadata": {
        "id": "Sd-Oq4RzyZ1y"
      },
      "execution_count": null,
      "outputs": []
    }
  ]
}